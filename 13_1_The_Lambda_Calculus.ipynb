{
  "nbformat": 4,
  "nbformat_minor": 0,
  "metadata": {
    "colab": {
      "name": "13_1_The_Lambda_Calculus.ipynb",
      "provenance": [],
      "include_colab_link": true
    },
    "kernelspec": {
      "name": "python3",
      "display_name": "Python 3"
    },
    "language_info": {
      "name": "python"
    }
  },
  "cells": [
    {
      "cell_type": "markdown",
      "metadata": {
        "id": "view-in-github",
        "colab_type": "text"
      },
      "source": [
        "<a href=\"https://colab.research.google.com/github/croesusking/cse480-notebooks/blob/master/13_1_The_Lambda_Calculus.ipynb\" target=\"_parent\"><img src=\"https://colab.research.google.com/assets/colab-badge.svg\" alt=\"Open In Colab\"/></a>"
      ]
    },
    {
      "cell_type": "markdown",
      "metadata": {
        "id": "pM3mepqIDJWz"
      },
      "source": [
        "# The Lambda Calculus\n",
        "## 29 March 2021"
      ]
    },
    {
      "cell_type": "markdown",
      "metadata": {
        "id": "88wYRupRDOPI"
      },
      "source": [
        "## Illustrative Definitions"
      ]
    },
    {
      "cell_type": "markdown",
      "metadata": {
        "id": "7v5kVPl7DWBo"
      },
      "source": [
        "Lambda Calculus was introduced to mathematics (and hence to computer science) by Alonzo Church. The definitions in this notebook help demonstrate that the Lambda notation is surprisingly versatile and helps us encode a vast array of nontrivial calculations. It has in fact been shown that the Lambda notation is universal. It is known that any collection of primitives that includes operations on numbers, conditional branches and recursion is universal (\"Turing complete\"), and what this notebook shows is how to encode numbers, arithmetic, and conditional testing. We offer you the opportunity to carry out a suite of experiments to obtain an appreciation of the power of these primitives we provide. Further details of the universality of Lambda calculus may be found in the literature.\n"
      ]
    },
    {
      "cell_type": "markdown",
      "metadata": {
        "id": "OV_LiKYkwLIE"
      },
      "source": [
        "Here are some useful links:\n",
        "\n",
        "TLC = The Lambda Calculus.\n",
        "[Computerphile on YouTube](https://www.youtube.com/watch?v=eis11j_iGMs) provides a 12:40 gentle introduction/walk-through of TLC.\n",
        "\n",
        "[This document](http://www.inf.fu-berlin.de/inst/ag-ki/rojas_home/documents/tutorials/lambda.pdf) gives a brief written introduction to TLC and describes its connection to [functional programming](https://firstthreeodds.org/17657741833134731255/an-introduction-to-functional-programming.pdf).\n",
        "\n",
        "[Hai (Paul) Liu’s step-by-step Lambda Viewer](http://projectultimatum.org/cgi-bin/lambda) --- try it on the examples in Raul Rojas's Lambda Calculus tutorial linked-to above.\n"
      ]
    },
    {
      "cell_type": "markdown",
      "metadata": {
        "id": "YLbm2lqSIGur"
      },
      "source": [
        "### Church Numerals"
      ]
    },
    {
      "cell_type": "markdown",
      "metadata": {
        "id": "vDprRc96IHu0"
      },
      "source": [
        "Alonzo Church proposed an interesting way to encode natural numbers: numbers 0, 1, 2, and so on. To represent number N belonging to this set, one merely builds a Lambda expression containing N applications of an abstract function \"b\" to another abstract function \"c\". In this sequel, we begin with the identity function ```I = lambda c: c```, and then model ZERO (number 0) as ```lambda b: lambda c: c```, or in other words, ```lambda b: I```. It will be soon apparent what all these definitions lead to."
      ]
    },
    {
      "cell_type": "code",
      "metadata": {
        "id": "akIa232mDuhD"
      },
      "source": [
        "# The identity function, I:\n",
        "# ---\n",
        "# I takes as well as returns a quantity c\n",
        "#\n",
        "I    = lambda c: c\n",
        "\n",
        "# The ZERO function, ZERO:\n",
        "# ---\n",
        "# The lambda expression below models 0. The encoding scheme used is that of\n",
        "# Church Numerals. Basically, it can also be written lambda b: lambda c: c\n",
        "# that is, the lambda body is \"c\"\n",
        "# or in other words zero applications of b to c.\n",
        "#\n",
        "# The reason that this defines 0 adequately will soon become apparent.\n",
        "#\n",
        "ZERO = lambda b: I\n",
        "\n",
        "# The successor function, S:\n",
        "# ---\n",
        "# This is how the successor function is encoded. Basically, it will help\n",
        "# wrap one more \"b\" application around an innermost c, as will soon be demoed.\n",
        "#\n",
        "S    = lambda a: lambda b: lambda c: b(a(b)(c))"
      ],
      "execution_count": null,
      "outputs": []
    },
    {
      "cell_type": "markdown",
      "metadata": {
        "id": "FPS5ibiXIcTk"
      },
      "source": [
        "### A taste of how the definition of ZERO and S fit together"
      ]
    },
    {
      "cell_type": "markdown",
      "metadata": {
        "id": "KwYGIQHeIdr1"
      },
      "source": [
        "Note that ```S(ZERO)``` reduces to ```lambda b: lambda c: b(c)```.\n",
        "\n",
        "This expression has ```b(c)``` inside, i.e., one application of ```b``` to ```c```, thus modeling \"1\". Here is how we obtain that result:\n",
        "* Start with ```S(ZERO)```\n",
        "* Applying the definition of ```S```, we get\n",
        "* ```(lambda a: lambda b: lambda c: b(a(b)(c))) (ZERO)```\n",
        "* Substituting ZERO in place of a in the above, we get\n",
        "* ```lambda b: lambda c: b(ZERO(b)(c))```\n",
        "* Applying the definition of ZERO, we get\n",
        "* ```lambda b: lambda c: b((lambda b: I)(b)(c))```\n",
        "* Eta reduction of ```(lambda b: I)b``` to ```I``` gives\n",
        "* ```lambda b: lambda c: b(I(c))```\n",
        "* Plugging in the definition of ```I``` gives\n",
        "* ```lambda b: lambda c: b((lambda c:c)(c))```\n",
        "* Another round of Eta reduction - this time ```(lambda c:c)c``` reducing to ```c``` gives\n",
        "* ```lambda b: lambda c: b(c)```\n",
        "* Notice that we have a ```b(c)``` innermost. That is one application of ```b``` to ```c```.\n",
        "* This ends up modeling \"1\".\n",
        "\n",
        "In the same vein, S(S(ZERO)) reduces to ```lambda b: lambda c: b(b(c))```. By now, we know that this models \"2\" since we have a ```b(b(c))``` innermost."
      ]
    },
    {
      "cell_type": "markdown",
      "metadata": {
        "id": "EJ_asyi0JPIF"
      },
      "source": [
        "### Modeling Arithmetic"
      ]
    },
    {
      "cell_type": "markdown",
      "metadata": {
        "id": "vj6NiUJAJQcz"
      },
      "source": [
        "We now embark on modeling addition and multiplication. The ingenuity behind these definitions may be attributed to Alonzo Church himself. We are merely interested in finding out how these definitions work in creating Church numerals that model arithmetic correctly. (There is a story that Church himself took some effort to find definitions for certain operators -- notably the predecessor.)\n"
      ]
    },
    {
      "cell_type": "markdown",
      "metadata": {
        "id": "IQQocpSmpv9_"
      },
      "source": [
        "Let's first model arithmetic in a more \"natural\" way:"
      ]
    },
    {
      "cell_type": "markdown",
      "metadata": {
        "id": "ZhIk8Oetqdid"
      },
      "source": [
        "Define exp(x, y) in terms of repeated multiplication, ($5^3 = 5 \\times 5 \\times 5$, exemplifying reducing exponentiation to the calculation of products.)"
      ]
    },
    {
      "cell_type": "code",
      "metadata": {
        "id": "R-2_D3wEp1TV"
      },
      "source": [
        "def s(n):\n",
        "  return n+1\n",
        "\n",
        "def add(x, y):\n",
        "  if (y == 0):\n",
        "    return x\n",
        "  else:\n",
        "    return s(add(x, y - 1))\n",
        "\n",
        "def mul(x, y):\n",
        "  if (y == 0):\n",
        "    return 0\n",
        "  else:\n",
        "    return add(x, mul(x, y - 1))\n",
        "\n",
        "def exp(x, y):\n",
        "  if (y == 0):\n",
        "    return 1\n",
        "  else:\n",
        "    return mul(x, exp(x, y - 1))"
      ],
      "execution_count": null,
      "outputs": []
    },
    {
      "cell_type": "code",
      "metadata": {
        "id": "3uD47acSpueu"
      },
      "source": [
        "print(f'add(5, 3) --> {add(5, 3)}')"
      ],
      "execution_count": null,
      "outputs": []
    },
    {
      "cell_type": "code",
      "metadata": {
        "id": "LXrjcSxsqXNV"
      },
      "source": [
        "print(f'mul(5, 3) --> {mul(5, 3)}')"
      ],
      "execution_count": null,
      "outputs": []
    },
    {
      "cell_type": "code",
      "metadata": {
        "id": "hn0zc8CiqdMe"
      },
      "source": [
        "print(f'exp(5, 3) --> {exp(5, 3)}')"
      ],
      "execution_count": null,
      "outputs": []
    },
    {
      "cell_type": "code",
      "metadata": {
        "id": "0FPTdizUJSOX"
      },
      "source": [
        "# The addition function, ADD:\n",
        "# ---\n",
        "# This is how addition is encoded. Again not quite obvious yet. Hang on!\n",
        "# Notice that ADD is curried in that it takes the first number 'a' to be\n",
        "# added, and yields a function lambda b:... . The body of this function\n",
        "# does a(S) and feeds it b. This accomplishes addition.\n",
        "#\n",
        "ADD  = lambda a: lambda b: a(S)(b)\n"
      ],
      "execution_count": null,
      "outputs": []
    },
    {
      "cell_type": "code",
      "metadata": {
        "id": "5anncUu8IvcO"
      },
      "source": [
        "# The multiplication function, MUL:\n",
        "# ---\n",
        "# And finally for the encoding of multiplication - nonobvious again!\n",
        "#\n",
        "MUL  = lambda a: lambda b: lambda c: a((b)(c))     # Multiplication"
      ],
      "execution_count": null,
      "outputs": []
    },
    {
      "cell_type": "markdown",
      "metadata": {
        "id": "sPJXJZ0fJeB2"
      },
      "source": [
        "### Checking the definitions"
      ]
    },
    {
      "cell_type": "markdown",
      "metadata": {
        "id": "L1yht7JIJfor"
      },
      "source": [
        "The manner in which ADD and MUL work may be unraveled by testing them on specific numbers. Given two numbers N1 and N2 encoded as Church numerals (which are functions), ADD works by applying function N1 (modeled by 'a') on S (the successor function), and subsequently applies the resulting function to function N1 (modeled by 'b'). It ends up obtaining the N1th successor of N2.\n",
        "\n",
        "Instead of doing this checking in this notebook, we will give you helper functions that will help you interactively confirm these encodings."
      ]
    },
    {
      "cell_type": "code",
      "metadata": {
        "id": "sTf32knFKOkN"
      },
      "source": [
        "def increment(n):\n",
        "    \"\"\"Standard increment of n. Helps define ChurchToNat.\n",
        "    \"\"\"\n",
        "    return n+1\n",
        "\n",
        "def ChurchToNat(c):\n",
        "    \"\"\"To define the Church numeral to Nat converter, all we need to do is\n",
        "       accept c, which is a function representing the Church numeral. We then\n",
        "       specialize c with the standard increment applied to 0. The result will\n",
        "       be that the Church numeral in question will end up applying increment\n",
        "       to 0 n times.\n",
        "       \"\"\"\n",
        "    return c(increment)(0)\n",
        "\n",
        "def NatToChurch(n):\n",
        "    \"\"\"A reverse converter now converts a standard natural number to a\n",
        "       Church numeral. This is done by applying S (i.e. our successor\n",
        "       function) n times to 0.\n",
        "    \"\"\"\n",
        "    if n == 0:\n",
        "        return ZERO\n",
        "    else:\n",
        "        return S(NatToChurch(n-1))"
      ],
      "execution_count": null,
      "outputs": []
    },
    {
      "cell_type": "markdown",
      "metadata": {
        "id": "WNB9wb7lKLdO"
      },
      "source": [
        "### Now for some arithmetic, followed by printouts"
      ]
    },
    {
      "cell_type": "markdown",
      "metadata": {
        "id": "F0hhGHPCKbJ_"
      },
      "source": [
        "We will experimentally confirm that ```ADD``` and ```MUL``` work correctly, obtaining printouts in the form of standard numerals, thanks to the ```ChurchToNat``` helper function. We begin with seeing how ```ZERO``` and ```S``` work."
      ]
    },
    {
      "cell_type": "code",
      "metadata": {
        "id": "qQyRmiHFKnmy"
      },
      "source": [
        "print(ChurchToNat(ZERO))"
      ],
      "execution_count": null,
      "outputs": []
    },
    {
      "cell_type": "code",
      "metadata": {
        "id": "COMf6v7bKpmw"
      },
      "source": [
        "ChurchToNat(S(ZERO))"
      ],
      "execution_count": null,
      "outputs": []
    },
    {
      "cell_type": "code",
      "metadata": {
        "id": "q54SIaZiKqh1"
      },
      "source": [
        "ChurchToNat(S(S(ZERO)))"
      ],
      "execution_count": null,
      "outputs": []
    },
    {
      "cell_type": "code",
      "metadata": {
        "id": "wTLMa9PAKrju"
      },
      "source": [
        "# Let us do 1+2, giving us 3\n",
        "print(ChurchToNat( ADD(S(ZERO))(S(S(ZERO)))))"
      ],
      "execution_count": null,
      "outputs": []
    },
    {
      "cell_type": "code",
      "metadata": {
        "id": "2XxWZ3V6Ktnk"
      },
      "source": [
        "# Let us do 2*3, giving us 6\n",
        "print(ChurchToNat( MUL(S(S(ZERO))) (S(S(S(ZERO))))))"
      ],
      "execution_count": null,
      "outputs": []
    },
    {
      "cell_type": "code",
      "metadata": {
        "id": "Mig0H4dYKvmH"
      },
      "source": [
        "# The lambda function itself can be printed without\n",
        "# showing the result of the call\n",
        "NatToChurch(7)"
      ],
      "execution_count": null,
      "outputs": []
    },
    {
      "cell_type": "code",
      "metadata": {
        "id": "ZKrZScmQKxqI"
      },
      "source": [
        "# But we can show it via ChurchToNat\n",
        "print(ChurchToNat(NatToChurch(7)))"
      ],
      "execution_count": null,
      "outputs": []
    },
    {
      "cell_type": "markdown",
      "metadata": {
        "id": "Mp54PBWYK1_Y"
      },
      "source": [
        "The definitions of various arithmetic operations seem to be exactly as we expect."
      ]
    },
    {
      "cell_type": "markdown",
      "metadata": {
        "id": "yHsPfol8K3Op"
      },
      "source": [
        "## Definitions of Booleans"
      ]
    },
    {
      "cell_type": "markdown",
      "metadata": {
        "id": "DjPLxaNjK4oo"
      },
      "source": [
        "We now switch gears and define Boolean operations in Lambda calculus. Aided by these definitions, we can finally define recursive functions where we can carry out arithmetic, and also decide to perform Boolean tests to terminate recursion. These definitions will likely be nonobvious, at least at first glance, until we see them in action in our tests."
      ]
    },
    {
      "cell_type": "code",
      "metadata": {
        "id": "Wc0eke9SKzbY"
      },
      "source": [
        "# Church-coded Boolean true\n",
        "TRUE  = lambda a: lambda b: a\n",
        "\n",
        "# Church-coded Boolean false\n",
        "FALSE = lambda a: lambda b: b\n",
        "\n",
        "# Boolean negation\n",
        "NOT = lambda a: a(FALSE)(TRUE)\n",
        "\n",
        "# Conjunction\n",
        "AND = lambda a: lambda b: a(b)(FALSE)\n",
        "\n",
        "# Disjunction using DeMorgan's\n",
        "OR = lambda a: lambda b: NOT(AND(NOT(a))(NOT(b)))\n",
        "\n",
        "# Equal to zero test\n",
        "Z = lambda a: a(FALSE)(NOT)(FALSE)\n",
        "\n",
        "# Pair creator\n",
        "PAIR = lambda x: lambda y: lambda f: f(x)(y)\n",
        "\n",
        "# Extracts first of pair\n",
        "FIRST = lambda p: p(TRUE)\n",
        "\n",
        "# Extracts second of pair\n",
        "SECOND = lambda p: p(FALSE)"
      ],
      "execution_count": null,
      "outputs": []
    },
    {
      "cell_type": "code",
      "metadata": {
        "id": "A5aduwe3LA8s"
      },
      "source": [
        "# Returns the literal boolean equivalent of Church-coded boolean\n",
        "def LambdaToBoolean(b):\n",
        "    return b(True)(False)\n",
        "\n",
        "# Returns the Church encoded boolean of a literal boolean\n",
        "def BooleanToLambda(b):\n",
        "    if (b):\n",
        "        return TRUE\n",
        "    else:\n",
        "        return FALSE"
      ],
      "execution_count": null,
      "outputs": []
    },
    {
      "cell_type": "code",
      "metadata": {
        "id": "lBweWS-aLEkY"
      },
      "source": [
        "print(LambdaToBoolean(TRUE))"
      ],
      "execution_count": null,
      "outputs": []
    },
    {
      "cell_type": "code",
      "metadata": {
        "id": "if6W0jRgLGa2"
      },
      "source": [
        "print(LambdaToBoolean(AND(TRUE)(TRUE)))"
      ],
      "execution_count": null,
      "outputs": []
    },
    {
      "cell_type": "code",
      "metadata": {
        "id": "f9bJ0-9ULHdp"
      },
      "source": [
        "print(LambdaToBoolean(AND(FALSE)(TRUE)))"
      ],
      "execution_count": null,
      "outputs": []
    },
    {
      "cell_type": "code",
      "metadata": {
        "id": "5iCrBHZfLIVc"
      },
      "source": [
        "LB1 = LambdaToBoolean( (FIRST(PAIR(TRUE)(FALSE))) )"
      ],
      "execution_count": null,
      "outputs": []
    },
    {
      "cell_type": "code",
      "metadata": {
        "id": "4Vb96hV6LJV3"
      },
      "source": [
        "print(LB1)"
      ],
      "execution_count": null,
      "outputs": []
    },
    {
      "cell_type": "markdown",
      "metadata": {
        "id": "28hge4_JLKgz"
      },
      "source": [
        "## Y: The fixpoint finder"
      ]
    },
    {
      "cell_type": "markdown",
      "metadata": {
        "id": "zV-A5ZBsLL_r"
      },
      "source": [
        "We introduce the Y operator which helps model recursion. Suppose function F is recursively defined. Our accompanying textbook (and many similar sources) will tell us that F can then be viewed as the solution to an equation of the form F = G(F). In mathematics, a value (or function) F such that F=G(F) is said to be a fixpoint of G. In the following, we will obtain these fixpoints by employing a fixpoint finder. The standard fixpoint finder is the Y combinator or Y function. Given that we are encoding all our concepts in Python which is an *eager* language (follows eager evaluation), we will term our Y combinator Ye (e for eager).\n",
        "\n",
        "What is eager evaluation, you might ask. We do not need to know all the details of this concept, but a high level explanation may leave you a bit more satisfied than otherwise."
      ]
    },
    {
      "cell_type": "markdown",
      "metadata": {
        "id": "zELBkZqVLSOW"
      },
      "source": [
        "### Eager versus lazy evaluation"
      ]
    },
    {
      "cell_type": "markdown",
      "metadata": {
        "id": "DJr2pfWCLTef"
      },
      "source": [
        "When we apply a function f to an argument E, written f(E), one could follow two approaches:\n",
        "1. Evaluate E fully, obtaining some value (say v). Then apply f to v. This is the eager evaluation approach -- alternately known as call by value.\n",
        "2. Do not evaluate E one bit. Instead, assuming that the formal parameter of f is x, substitute E for x everywhere within the body of f. This is the non-eager evaluation approach, more properly termed lazy evaluation -- alternately known as call by name.\n",
        "\n",
        "You may wonder how these two approaches differ. Again, the quick answer is that the latter approach can avoid nontermination (infinite looping) in more cases. To see this, think of a function g which takes three arguments, say x, y, and z.\n",
        "\n",
        "* Let g(x,y,z) be such that it evaluates x, and if found true, will evaluate and return y, ignoring z entirely. On the other hand, if x is found to be false, it will ignore y entirely and evaluate z.\n",
        "* Now call g as follows: g(True, 0, InfLoop()), where InfLoop() is a function call of no arguments that simply goes into an infinite loop.\n",
        "* However, since the first argument of g is the constant True, we can return the answer 0 under lazy evaluation.\n",
        "* On the other hand, with eager evaluation, the function call g(True, 0, InfLoop()) will be fixated on \"grinding down InfLoop() into a value v\" before it proceeds further with g's evaluation. Clearly, this results in the whole computation looping infinitely (which is unnecessary)."
      ]
    },
    {
      "cell_type": "markdown",
      "metadata": {
        "id": "5J_Fr3xwLdri"
      },
      "source": [
        "### The eager Y combinator, Ye"
      ]
    },
    {
      "cell_type": "markdown",
      "metadata": {
        "id": "bQ6dCIUHLfZX"
      },
      "source": [
        "In general, a functional programming afficianado likes to introduce Lambda calculus in terms of a fixpoint finder called Y. This function is often called the Y function (or Y combinator; the term combinator originates from another line of work on combinatory calculus, and is being mentioned in case you hear it by chance and wonder what that means).\n",
        "\n",
        "The Y combinator is defined as follows:\n",
        "\n",
        "```Y = lambda f: ( (lambda x: f(x x)) (lambda x: f(x x)) )```\n",
        "\n",
        "Unfortunately, this Y combinator is designed for those who work under the assumption of the lazy evaluation semantics. Python, however, supports only eager evaluation (call by value), and therefore we must take due precautions to avoid infinite looping. For this reason, we define a suitable Y combinator which we call Ye, and is different from Y. See the definition of Ye below."
      ]
    },
    {
      "cell_type": "code",
      "metadata": {
        "id": "BZuW2YjNLkUw"
      },
      "source": [
        "# Below, for clarity, we use don't use Church numerals..\n",
        "# The Ye -- eager Y combinator\n",
        "\n",
        "Ye = lambda f: (lambda x: x(x))(lambda y: f(lambda v: y(y)(v)))"
      ],
      "execution_count": null,
      "outputs": []
    },
    {
      "cell_type": "markdown",
      "metadata": {
        "id": "YCM2-lA-LmkJ"
      },
      "source": [
        "### The notion of a \"pre\" function"
      ]
    },
    {
      "cell_type": "markdown",
      "metadata": {
        "id": "FaEKV6L8Lnvm"
      },
      "source": [
        "Consider the standard factorial function which we call 'fact' below:\n",
        "\n",
        "```fact(n) = (1 if n==0 else n*fact(n-1))```\n",
        "\n",
        "Using Lambdas a bit more \"cleverly\", we can rewrite the above definition into an equational form:\n",
        "\n",
        "```fact = lambda n: (1 if n==0 else n*fact(n-1))```\n",
        "\n",
        "In a sense we are seeking one function 'fact' such that plugging it in on both sides of the equality symbol '=' achieves \"balance\".\n",
        "\n",
        "Using the Beta rule of Lambda calculus, we can write the above equation as follows (we are using the Beta rule \"backwards\"):\n",
        "\n",
        "```fact = (lambda F. lambda n: (1 if n==0 else n*F(n-1))) fact```\n",
        "\n",
        "We can immediately see that this is of the form \"fact = G fact\". Thus, fact is a fixpoint of this \"G\" function, which we will \"find\" (calculate) using our eager fixpoint finder, Ye.\n",
        "\n",
        "We will employ Ye to find the fixpoint of the so called \"pre\" function. Thus, if we are interested in defining the factorial function (termed 'fact'), we will define the prefact function and obtain its fixpoint using Ye. One can understand \"pre\" to connote /prelude/, i.e. /prelude to defining a recursive function/.\n",
        "\n",
        "Plainly said, the G function is the \"pre\" function. We will now see various examples of \"pre\" functions."
      ]
    },
    {
      "cell_type": "markdown",
      "metadata": {
        "id": "ZOw8v-ogLzkT"
      },
      "source": [
        "### 'A' fixpoint or 'the' fixpoint?"
      ]
    },
    {
      "cell_type": "markdown",
      "metadata": {
        "id": "ykiSe6IlL1Hc"
      },
      "source": [
        "We have been employing the term **the fixpoint** without batting an eyelid. While a general discussion is beyond the scope of these notes, we must say that in general, for a G function, there could be multiple fixpoints. Luckily for us, we are going to be dealing with only *total* functions -- that is, recursive definitions where the function does not infinitely loop for any argument. For such functions, there is only one fixpoint, and Ye will find that. We are thus justified in using the term **the fixpoint**."
      ]
    },
    {
      "cell_type": "code",
      "metadata": {
        "id": "mCzPptePLpMk"
      },
      "source": [
        "# Pre-Factorial: performs the product of\n",
        "# a natural number and all natural number less than it\n",
        "# We call it pre-factorial because we need to apply\n",
        "# Y to it to obtain the real factorial\n",
        "\n",
        "prefact = lambda fact: lambda n: (1 if n==0 else n*fact(n-1))"
      ],
      "execution_count": null,
      "outputs": []
    },
    {
      "cell_type": "code",
      "metadata": {
        "id": "tZIH-0wyL6HL"
      },
      "source": [
        "# Pre-sum: sums all the natural numbers less than the given number\n",
        "\n",
        "presum = lambda f: lambda n: (0 if n==0 else n+f(n-1))"
      ],
      "execution_count": null,
      "outputs": []
    },
    {
      "cell_type": "code",
      "metadata": {
        "id": "aLaup5MeL7kf"
      },
      "source": [
        "# Pre-Fib: returns the nth number of the series defined by\n",
        "# the following definitions\n",
        "#  the first two numbers are 1 and 1\n",
        "#  the next number is defined as the sum of the prior two numbers\n",
        "\n",
        "prefib = lambda f: lambda n: 0 if n == 0 else (1 if n == 1 else f(n-1) + f(n-2))"
      ],
      "execution_count": null,
      "outputs": []
    },
    {
      "cell_type": "markdown",
      "metadata": {
        "id": "ujtSu-M4L89z"
      },
      "source": [
        "### Onto the first recursive definition"
      ]
    },
    {
      "cell_type": "markdown",
      "metadata": {
        "id": "LMXsIrGsL-cD"
      },
      "source": [
        "We now have built-up enough machinery to show you how we can handle recursive functions.\n",
        "\n",
        "We can write the following without (we hope) surprising you one bit:\n",
        "* ```fact = Ye prefact``` : In other words, ```fact``` is obtained by finding a fixpoint of ```prefact```.\n",
        "* To see this working, we can calculate ```fact 3```, ```fact 4```, and ```fact 5```. Given that we are working with standard numerals (and not Church numerals), we can run without any printing aids such as ```ChurchToNat```.\n",
        "* We can similarly give ```fib``` and ```prefib``` a go.\n"
      ]
    },
    {
      "cell_type": "code",
      "metadata": {
        "id": "p5CNFdMxMBbc",
        "outputId": "76b8ddfa-7f64-40cc-f3a4-0ce1ae99fd5c",
        "colab": {
          "base_uri": "https://localhost:8080/"
        }
      },
      "source": [
        "fact = Ye(prefact)\n",
        "print(fact(5))"
      ],
      "execution_count": 37,
      "outputs": [
        {
          "output_type": "stream",
          "text": [
            "120\n"
          ],
          "name": "stdout"
        }
      ]
    },
    {
      "cell_type": "code",
      "metadata": {
        "id": "xfv4dcC5MG_N",
        "outputId": "0d500507-356c-4c1c-d41c-28648204f8cd",
        "colab": {
          "base_uri": "https://localhost:8080/"
        }
      },
      "source": [
        "print(Ye(presum)(10))"
      ],
      "execution_count": 38,
      "outputs": [
        {
          "output_type": "stream",
          "text": [
            "55\n"
          ],
          "name": "stdout"
        }
      ]
    },
    {
      "cell_type": "code",
      "metadata": {
        "id": "gPkXzPJfMDZG",
        "outputId": "5d6aa3d7-6a31-40fb-fb8c-e3a613991a0f",
        "colab": {
          "base_uri": "https://localhost:8080/"
        }
      },
      "source": [
        "fib = Ye(prefib)\n",
        "print(fib(5))"
      ],
      "execution_count": 39,
      "outputs": [
        {
          "output_type": "stream",
          "text": [
            "5\n"
          ],
          "name": "stdout"
        }
      ]
    },
    {
      "cell_type": "code",
      "metadata": {
        "colab": {
          "base_uri": "https://localhost:8080/"
        },
        "id": "pg6-YqgNvDuI",
        "outputId": "fb98e29d-c70f-41cb-92dd-b47c12f4259f"
      },
      "source": [
        "(lambda f: (lambda x: x(x))(lambda y: f(lambda v: y(y)(v))))(lambda f: lambda n: 0 if n == 0 else (1 if n == 1 else f(n-1) + f(n-2)))(10)"
      ],
      "execution_count": 40,
      "outputs": [
        {
          "output_type": "execute_result",
          "data": {
            "text/plain": [
              "55"
            ]
          },
          "metadata": {
            "tags": []
          },
          "execution_count": 40
        }
      ]
    },
    {
      "cell_type": "markdown",
      "metadata": {
        "id": "RS73N9-BMJiv"
      },
      "source": [
        "## END: this finishes fixpoint theory defined in Jove"
      ]
    }
  ]
}